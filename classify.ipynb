{
  "nbformat": 4,
  "nbformat_minor": 0,
  "metadata": {
    "colab": {
      "name": "classify.ipynb",
      "provenance": [],
      "collapsed_sections": [],
      "include_colab_link": true
    },
    "kernelspec": {
      "name": "python3",
      "display_name": "Python 3"
    },
    "accelerator": "GPU"
  },
  "cells": [
    {
      "cell_type": "markdown",
      "metadata": {
        "id": "view-in-github",
        "colab_type": "text"
      },
      "source": [
        "<a href=\"https://colab.research.google.com/github/Shruti1312/Database/blob/master/classify.ipynb\" target=\"_parent\"><img src=\"https://colab.research.google.com/assets/colab-badge.svg\" alt=\"Open In Colab\"/></a>"
      ]
    },
    {
      "cell_type": "markdown",
      "metadata": {
        "id": "gbwF0CWA1hVA",
        "colab_type": "text"
      },
      "source": [
        "Classification!\n"
      ]
    },
    {
      "cell_type": "code",
      "metadata": {
        "id": "vZ6mlChb1fsI",
        "colab_type": "code",
        "outputId": "e95603f0-d6d2-4e00-bcb4-77ed56660cfb",
        "colab": {
          "base_uri": "https://localhost:8080/",
          "height": 51
        }
      },
      "source": [
        "from keras.preprocessing.image import ImageDataGenerator\n",
        "from keras.models import Sequential\n",
        "from keras.layers import Conv2D, MaxPooling2D\n",
        "from keras.layers import Activation, Dropout, Flatten, Dense\n",
        "from keras import backend as K\n",
        "\n",
        "import numpy\n",
        "\n",
        "# dimensions of our images.\n",
        "img_width, img_height = 150, 150\n",
        "\n",
        "\n",
        "if K.image_data_format() == 'channels_first':\n",
        "    input_shape = (3, img_width, img_height)\n",
        "else:\n",
        "    input_shape = (img_width, img_height, 3)\n",
        "    \n",
        "    \n",
        "\n",
        "\n",
        "model = Sequential()\n",
        "model.add(Conv2D(32, (3, 3), input_shape=input_shape))\n",
        "model.add(Activation('relu'))\n",
        "model.add(MaxPooling2D(pool_size=(2, 2)))\n",
        "\n",
        "model.add(Conv2D(32, (3, 3)))\n",
        "model.add(Activation('relu'))\n",
        "model.add(MaxPooling2D(pool_size=(2, 2)))\n",
        "\n",
        "model.add(Conv2D(64, (3, 3)))\n",
        "model.add(Activation('relu'))\n",
        "model.add(MaxPooling2D(pool_size=(2, 2)))\n",
        "\n",
        "model.add(Flatten())\n",
        "model.add(Dense(64))\n",
        "model.add(Activation('relu'))\n",
        "model.add(Dropout(0.5))\n",
        "model.add(Dense(1))\n",
        "model.add(Activation('sigmoid'))\n",
        "model.compile(loss='binary_crossentropy',\n",
        "              optimizer='rmsprop',\n",
        "              metrics=['accuracy'])\n",
        "\n",
        "#from keras.models import load_model\n",
        "model.load_weights('/content/drive/My Drive/Colab Notebooks/cats-vs-dogs/weights.h5')\n",
        "\n",
        "\n",
        "\n",
        "from keras.preprocessing import image\n",
        "\n",
        "\n",
        "\n",
        "myPic = '/content/drive/My Drive/Colab Notebooks/cats-vs-dogs/data/live/trick_cat.jpg'\n",
        "test_image= image.load_img(myPic, target_size = (img_width, img_height)) \n",
        "test_image = image.img_to_array(test_image)\n",
        "test_image = test_image.reshape(input_shape)\n",
        "test_image = numpy.expand_dims(test_image, axis = 0)\n",
        "result = model.predict(test_image,verbose=0)  \n",
        "print(\"For Tricked Cat Image Result --> \", result[0][0])\n",
        "\n",
        "\n",
        "myPic2 = '/content/drive/My Drive/Colab Notebooks/cats-vs-dogs/data/live/trick_dog.jpg'\n",
        "test_image2= image.load_img(myPic2, target_size = (img_width, img_height)) \n",
        "test_image2 = image.img_to_array(test_image2)\n",
        "test_image2 = test_image2.reshape(input_shape)\n",
        "test_image2 = numpy.expand_dims(test_image2, axis = 0)\n",
        "result = model.predict(test_image2,verbose=0)  \n",
        "print(\"For Tricked Dog Image Result --> \", result[0][0])\n",
        "\n"
      ],
      "execution_count": 0,
      "outputs": [
        {
          "output_type": "stream",
          "text": [
            "For Tricked Cat Image Result -->  1.0\n",
            "For Tricked Dog Image Result -->  0.0\n"
          ],
          "name": "stdout"
        }
      ]
    },
    {
      "cell_type": "code",
      "metadata": {
        "id": "VBfCNs9q4I48",
        "colab_type": "code",
        "colab": {}
      },
      "source": [
        ""
      ],
      "execution_count": 0,
      "outputs": []
    }
  ]
}